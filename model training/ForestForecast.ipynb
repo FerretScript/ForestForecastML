{
  "cells": [
    {
      "cell_type": "code",
      "execution_count": null,
      "metadata": {
        "id": "sV3P1wgjAO8z"
      },
      "outputs": [],
      "source": []
    },
    {
      "cell_type": "code",
      "execution_count": 32,
      "metadata": {
        "id": "lxrwOB0XASzk"
      },
      "outputs": [],
      "source": [
        "#importing modules and data\n",
        "import pandas as pd\n",
        "import numpy as np\n",
        "from sklearn.model_selection import train_test_split\n",
        "import matplotlib.pyplot as plt\n",
        "from sklearn.metrics import log_loss\n",
        "from sklearn.ensemble import RandomForestClassifier\n",
        "from sklearn.metrics import accuracy_score, classification_report, confusion_matrix\n",
        "df = pd.read_csv(\"./combined_forest.csv\")"
      ]
    },
    {
      "cell_type": "code",
      "execution_count": 33,
      "metadata": {
        "colab": {
          "base_uri": "https://localhost:8080/",
          "height": 921
        },
        "id": "YiV80LOyBu3D",
        "outputId": "7e090d29-67b9-4631-915e-072c9b05452a"
      },
      "outputs": [
        {
          "name": "stdout",
          "output_type": "stream",
          "text": [
            "      longitude   latitude    acq_date          DEM  fire    lst       prcp  \\\n",
            "0     81.539200  28.469100  2019-03-16   446.311615     0  24.45   0.000000   \n",
            "1     84.918900  27.271500  2019-03-20   284.640900     0  27.73   0.000000   \n",
            "2     84.399200  27.552000  2019-04-11   177.724487     0    NaN   0.000000   \n",
            "3     84.519100  27.532800  2019-03-29   196.470398     0  28.35   0.000000   \n",
            "4     82.154400  28.345800  2019-01-10  1472.567871     0  16.11   0.000000   \n",
            "...         ...        ...         ...          ...   ...    ...        ...   \n",
            "6316  82.139678  29.467243  2010-02-26  3198.465000     0   8.09   0.000000   \n",
            "6317  82.904470  28.449312  2010-03-02  3119.710700     0  14.65   0.000000   \n",
            "6318  85.212110  28.178293  2010-01-10  3761.871000     0   9.35   0.000000   \n",
            "6319  82.092210  29.650521  2010-04-05  3643.557400     0  16.67   0.000000   \n",
            "6320  81.856150  29.120458  2010-05-24  3002.950700     0  22.57  10.737953   \n",
            "\n",
            "      7dayprecip         at  std_longitude  std_latitude   std_DEM   std_lst  \\\n",
            "0       0.000000  20.194879       0.176930      0.557241  0.096044  0.635199   \n",
            "1       0.000000  20.619836       0.604632      0.224464  0.061175  0.690492   \n",
            "2      35.881322  22.968530       0.538864      0.302406  0.038115       NaN   \n",
            "3       5.034953  22.031305       0.554037      0.297071  0.042159  0.700944   \n",
            "4       0.000000  10.052850       0.254784      0.522980  0.317384  0.494606   \n",
            "...          ...        ...            ...           ...       ...       ...   \n",
            "6316    5.680980   1.806635       0.252921      0.834596  0.689621  0.359407   \n",
            "6317    0.000000   7.179742       0.349705      0.551743  0.672635  0.469993   \n",
            "6318    0.000000  -3.270056       0.641738      0.476435  0.811134  0.380647   \n",
            "6319    0.000000   5.538782       0.246913      0.885523  0.785617  0.504046   \n",
            "6320    7.072160  15.618555       0.217040      0.738234  0.647453  0.603506   \n",
            "\n",
            "      std_prcp  std_7dayprecip    std_at  \n",
            "0     0.000000        0.000000  0.729770  \n",
            "1     0.000000        0.000000  0.737811  \n",
            "2     0.000000        0.279923  0.782252  \n",
            "3     0.000000        0.039279  0.764518  \n",
            "4     0.000000        0.000000  0.537864  \n",
            "...        ...             ...       ...  \n",
            "6316  0.000000        0.044319  0.381831  \n",
            "6317  0.000000        0.000000  0.483500  \n",
            "6318  0.000000        0.000000  0.285771  \n",
            "6319  0.000000        0.000000  0.452450  \n",
            "6320  0.104056        0.055172  0.643177  \n",
            "\n",
            "[6321 rows x 16 columns]\n"
          ]
        },
        {
          "data": {
            "text/html": [
              "<div>\n",
              "<style scoped>\n",
              "    .dataframe tbody tr th:only-of-type {\n",
              "        vertical-align: middle;\n",
              "    }\n",
              "\n",
              "    .dataframe tbody tr th {\n",
              "        vertical-align: top;\n",
              "    }\n",
              "\n",
              "    .dataframe thead th {\n",
              "        text-align: right;\n",
              "    }\n",
              "</style>\n",
              "<table border=\"1\" class=\"dataframe\">\n",
              "  <thead>\n",
              "    <tr style=\"text-align: right;\">\n",
              "      <th></th>\n",
              "      <th>longitude</th>\n",
              "      <th>latitude</th>\n",
              "      <th>elevation</th>\n",
              "      <th>fire</th>\n",
              "      <th>lst</th>\n",
              "      <th>prcp</th>\n",
              "      <th>7dayprecip</th>\n",
              "      <th>at</th>\n",
              "      <th>std_longitude</th>\n",
              "      <th>std_latitude</th>\n",
              "      <th>std_elevation</th>\n",
              "      <th>std_lst</th>\n",
              "      <th>std_prcp</th>\n",
              "      <th>std_7dayprecip</th>\n",
              "      <th>std_at</th>\n",
              "    </tr>\n",
              "  </thead>\n",
              "  <tbody>\n",
              "    <tr>\n",
              "      <th>0</th>\n",
              "      <td>81.5392</td>\n",
              "      <td>28.4691</td>\n",
              "      <td>446.311615</td>\n",
              "      <td>0</td>\n",
              "      <td>24.45</td>\n",
              "      <td>0.0</td>\n",
              "      <td>0.000000</td>\n",
              "      <td>20.194879</td>\n",
              "      <td>0.176930</td>\n",
              "      <td>0.557241</td>\n",
              "      <td>0.096044</td>\n",
              "      <td>0.635199</td>\n",
              "      <td>0.0</td>\n",
              "      <td>0.000000</td>\n",
              "      <td>0.729770</td>\n",
              "    </tr>\n",
              "    <tr>\n",
              "      <th>1</th>\n",
              "      <td>84.9189</td>\n",
              "      <td>27.2715</td>\n",
              "      <td>284.640900</td>\n",
              "      <td>0</td>\n",
              "      <td>27.73</td>\n",
              "      <td>0.0</td>\n",
              "      <td>0.000000</td>\n",
              "      <td>20.619836</td>\n",
              "      <td>0.604632</td>\n",
              "      <td>0.224464</td>\n",
              "      <td>0.061175</td>\n",
              "      <td>0.690492</td>\n",
              "      <td>0.0</td>\n",
              "      <td>0.000000</td>\n",
              "      <td>0.737811</td>\n",
              "    </tr>\n",
              "    <tr>\n",
              "      <th>2</th>\n",
              "      <td>84.3992</td>\n",
              "      <td>27.5520</td>\n",
              "      <td>177.724487</td>\n",
              "      <td>0</td>\n",
              "      <td>NaN</td>\n",
              "      <td>0.0</td>\n",
              "      <td>35.881322</td>\n",
              "      <td>22.968530</td>\n",
              "      <td>0.538864</td>\n",
              "      <td>0.302406</td>\n",
              "      <td>0.038115</td>\n",
              "      <td>NaN</td>\n",
              "      <td>0.0</td>\n",
              "      <td>0.279923</td>\n",
              "      <td>0.782252</td>\n",
              "    </tr>\n",
              "    <tr>\n",
              "      <th>3</th>\n",
              "      <td>84.5191</td>\n",
              "      <td>27.5328</td>\n",
              "      <td>196.470398</td>\n",
              "      <td>0</td>\n",
              "      <td>28.35</td>\n",
              "      <td>0.0</td>\n",
              "      <td>5.034953</td>\n",
              "      <td>22.031305</td>\n",
              "      <td>0.554037</td>\n",
              "      <td>0.297071</td>\n",
              "      <td>0.042159</td>\n",
              "      <td>0.700944</td>\n",
              "      <td>0.0</td>\n",
              "      <td>0.039279</td>\n",
              "      <td>0.764518</td>\n",
              "    </tr>\n",
              "    <tr>\n",
              "      <th>4</th>\n",
              "      <td>82.1544</td>\n",
              "      <td>28.3458</td>\n",
              "      <td>1472.567871</td>\n",
              "      <td>0</td>\n",
              "      <td>16.11</td>\n",
              "      <td>0.0</td>\n",
              "      <td>0.000000</td>\n",
              "      <td>10.052850</td>\n",
              "      <td>0.254784</td>\n",
              "      <td>0.522980</td>\n",
              "      <td>0.317384</td>\n",
              "      <td>0.494606</td>\n",
              "      <td>0.0</td>\n",
              "      <td>0.000000</td>\n",
              "      <td>0.537864</td>\n",
              "    </tr>\n",
              "  </tbody>\n",
              "</table>\n",
              "</div>"
            ],
            "text/plain": [
              "   longitude  latitude    elevation  fire    lst  prcp  7dayprecip         at  \\\n",
              "0    81.5392   28.4691   446.311615     0  24.45   0.0    0.000000  20.194879   \n",
              "1    84.9189   27.2715   284.640900     0  27.73   0.0    0.000000  20.619836   \n",
              "2    84.3992   27.5520   177.724487     0    NaN   0.0   35.881322  22.968530   \n",
              "3    84.5191   27.5328   196.470398     0  28.35   0.0    5.034953  22.031305   \n",
              "4    82.1544   28.3458  1472.567871     0  16.11   0.0    0.000000  10.052850   \n",
              "\n",
              "   std_longitude  std_latitude  std_elevation   std_lst  std_prcp  \\\n",
              "0       0.176930      0.557241       0.096044  0.635199       0.0   \n",
              "1       0.604632      0.224464       0.061175  0.690492       0.0   \n",
              "2       0.538864      0.302406       0.038115       NaN       0.0   \n",
              "3       0.554037      0.297071       0.042159  0.700944       0.0   \n",
              "4       0.254784      0.522980       0.317384  0.494606       0.0   \n",
              "\n",
              "   std_7dayprecip    std_at  \n",
              "0        0.000000  0.729770  \n",
              "1        0.000000  0.737811  \n",
              "2        0.279923  0.782252  \n",
              "3        0.039279  0.764518  \n",
              "4        0.000000  0.537864  "
            ]
          },
          "execution_count": 33,
          "metadata": {},
          "output_type": "execute_result"
        }
      ],
      "source": [
        "#standerdizing all values\n",
        "min_max_values = df.drop(columns=['acq_date', 'fire']).agg(['min', 'max'])\n",
        "\n",
        "for column in df.columns:\n",
        "    if column not in ['acq_date', 'fire']:\n",
        "        x_min = min_max_values.loc['min', column]\n",
        "        x_max = min_max_values.loc['max', column]\n",
        "        df[f'std_{column}'] = (df[column] - x_min) / (x_max - x_min)\n",
        "\n",
        "print(df)\n",
        "\n",
        "df.drop(columns=['acq_date'], inplace=True)\n",
        "\n",
        "\n",
        "df.rename(columns={'DEM': 'elevation'}, inplace=True)\n",
        "df.rename(columns={'std_DEM': 'std_elevation'}, inplace=True)\n",
        "\n",
        "df.head()"
      ]
    },
    {
      "cell_type": "code",
      "execution_count": 34,
      "metadata": {
        "colab": {
          "base_uri": "https://localhost:8080/"
        },
        "id": "M__H1zhWByvQ",
        "outputId": "f802b50d-90a7-4fb7-f14f-4c298265996d"
      },
      "outputs": [
        {
          "name": "stdout",
          "output_type": "stream",
          "text": [
            "Columns with missing values:\n",
            "lst        1220\n",
            "std_lst    1220\n",
            "dtype: int64\n",
            "Number of rows with 'fire' as 0 and missing values: 1044\n",
            "Shape of the cleaned DataFrame: (5101, 15)\n",
            "Column Names:\n",
            "['longitude', 'latitude', 'elevation', 'fire', 'lst', 'prcp', '7dayprecip', 'at', 'std_longitude', 'std_latitude', 'std_elevation', 'std_lst', 'std_prcp', 'std_7dayprecip', 'std_at']\n"
          ]
        }
      ],
      "source": [
        "#addressing Nan values\n",
        "missing_values = df.isnull().sum()\n",
        "\n",
        "# Display columns with missing values\n",
        "print(\"Columns with missing values:\")\n",
        "print(missing_values[missing_values > 0])\n",
        "#only lst has them; rasonable because lst from dataset is Nan on cloudy days\n",
        "\n",
        "# Check how many of the null rows didnt have fires\n",
        "missing_fire_0 = df[(df['fire'] == 0) & df.isnull().any(axis=1)].shape[0]\n",
        "print(f\"Number of rows with 'fire' as 0 and missing values: {missing_fire_0}\")\n",
        "\n",
        "\n",
        "# Drop rows with missing values as they are mostly where fires didnt happen\n",
        "df_cleaned = df.dropna()\n",
        "\n",
        "# Display the shape of the cleaned DataFrame\n",
        "print(\"Shape of the cleaned DataFrame:\", df_cleaned.shape)\n",
        "\n",
        "column_names = df_cleaned.columns.tolist()\n",
        "print(\"Column Names:\")\n",
        "print(column_names)"
      ]
    },
    {
      "cell_type": "code",
      "execution_count": 35,
      "metadata": {
        "id": "LhNt_z44B4U4"
      },
      "outputs": [],
      "source": [
        "X = df_cleaned[['std_longitude', 'std_latitude', 'std_elevation', 'std_lst', 'std_prcp', 'std_7dayprecip', 'std_at']]\n",
        "y = df_cleaned['fire']\n",
        "\n",
        "X_train, X_valid, y_train, y_valid = train_test_split(X, y, test_size=0.3, random_state=42)"
      ]
    },
    {
      "cell_type": "code",
      "execution_count": 36,
      "metadata": {
        "colab": {
          "base_uri": "https://localhost:8080/",
          "height": 489
        },
        "id": "mx-8p5ApB_Bw",
        "outputId": "fdfe495b-5f11-4659-cec7-359df9e30f18"
      },
      "outputs": [
        {
          "data": {
            "image/png": "[encoded data removed]",
            "text/plain": [
              "<Figure size 640x480 with 1 Axes>"
            ]
          },
          "metadata": {},
          "output_type": "display_data"
        },
        {
          "name": "stdout",
          "output_type": "stream",
          "text": [
            "Best number of estimators: 590\n"
          ]
        }
      ],
      "source": [
        "#calculate the best number of estimators\n",
        "\n",
        "# Initialize an empty list to store errors\n",
        "errors = []\n",
        "\n",
        "# Create a growing RandomForestClassifier\n",
        "growing_rf = RandomForestClassifier(n_estimators=10, n_jobs=-1, warm_start=True, random_state=1514)\n",
        "\n",
        "# Iterate over a range of values for n_estimators\n",
        "for n_estimators in range(10, 1010, 20):\n",
        "    growing_rf.set_params(n_estimators=n_estimators)  # Update n_estimators using set_params\n",
        "    growing_rf.fit(X_train, y_train)\n",
        "    errors.append(log_loss(y_valid, growing_rf.predict_proba(X_valid)))\n",
        "\n",
        "# Plot the errors\n",
        "plt.plot(range(10, 1010, 20), errors, '-r')\n",
        "plt.xlabel('Number of Estimators')\n",
        "plt.ylabel('Log Loss')\n",
        "plt.title('Validation Log Loss vs. Number of Estimators')\n",
        "plt.show()\n",
        "\n",
        "# Find the best number of estimators with the lowest log loss\n",
        "best_n_estimators = np.argmin(errors) * 20 + 10\n",
        "print(\"Best number of estimators:\", best_n_estimators)"
      ]
    },
    {
      "cell_type": "code",
      "execution_count": 37,
      "metadata": {
        "colab": {
          "base_uri": "https://localhost:8080/"
        },
        "id": "D0dchNjcCKnq",
        "outputId": "680089aa-327b-44b4-bfc0-d4d091e6a5cb"
      },
      "outputs": [
        {
          "name": "stdout",
          "output_type": "stream",
          "text": [
            "Accuracy: 0.82\n",
            "Confusion Matrix:\n",
            "[[917 112]\n",
            " [166 336]]\n",
            "Classification Report:\n",
            "              precision    recall  f1-score   support\n",
            "\n",
            "           0       0.85      0.89      0.87      1029\n",
            "           1       0.75      0.67      0.71       502\n",
            "\n",
            "    accuracy                           0.82      1531\n",
            "   macro avg       0.80      0.78      0.79      1531\n",
            "weighted avg       0.82      0.82      0.82      1531\n",
            "\n"
          ]
        }
      ],
      "source": [
        "#training the data\n",
        "X_train, X_test, y_train, y_test = train_test_split(X, y, test_size=0.3, random_state=42)\n",
        "\n",
        "# Initialize the Random Forest classifier with the best number of estimators\n",
        "rf_classifier = RandomForestClassifier(n_estimators=590, random_state=42)\n",
        "\n",
        "# Train the classifier on the training data\n",
        "rf_classifier.fit(X_train, y_train)\n",
        "y_pred = rf_classifier.predict(X_test)\n",
        "\n",
        "accuracy = accuracy_score(y_test, y_pred)\n",
        "confusion = confusion_matrix(y_test, y_pred)\n",
        "classification_rep = classification_report(y_test, y_pred)\n",
        "\n",
        "print(f\"Accuracy: {accuracy:.2f}\")\n",
        "print(\"Confusion Matrix:\")\n",
        "print(confusion)\n",
        "print(\"Classification Report:\")\n",
        "print(classification_rep)"
      ]
    },
    {
      "cell_type": "code",
      "execution_count": 38,
      "metadata": {
        "colab": {
          "base_uri": "https://localhost:8080/"
        },
        "id": "6kAbo_wjDXJB",
        "outputId": "52714fa3-c036-4561-c7ee-143b567e3e33"
      },
      "outputs": [
        {
          "name": "stdout",
          "output_type": "stream",
          "text": [
            "   longitude  latitude    elevation  fire    lst       prcp  7dayprecip  \\\n",
            "0    81.5392   28.4691   446.311615     0  24.45   0.000000    0.000000   \n",
            "1    84.9189   27.2715   284.640900     0  27.73   0.000000    0.000000   \n",
            "3    84.5191   27.5328   196.470398     0  28.35   0.000000    5.034953   \n",
            "4    82.1544   28.3458  1472.567871     0  16.11   0.000000    0.000000   \n",
            "5    82.8061   27.9133   419.713501     0  37.89  12.236837    0.000000   \n",
            "\n",
            "          at  std_longitude  std_latitude  std_elevation   std_lst  std_prcp  \\\n",
            "0  20.194879       0.176930      0.557241       0.096044  0.635199  0.000000   \n",
            "1  20.619836       0.604632      0.224464       0.061175  0.690492  0.000000   \n",
            "3  22.031305       0.554037      0.297071       0.042159  0.700944  0.000000   \n",
            "4  10.052850       0.254784      0.522980       0.317384  0.494606  0.000000   \n",
            "5  26.071588       0.337256      0.402801       0.090307  0.861767  0.118581   \n",
            "\n",
            "   std_7dayprecip    std_at  forest_loss_prediction  \n",
            "0        0.000000  0.729770                       0  \n",
            "1        0.000000  0.737811                       0  \n",
            "3        0.039279  0.764518                       0  \n",
            "4        0.000000  0.537864                       0  \n",
            "5        0.000000  0.840968                       0  \n"
          ]
        },
        {
          "name": "stderr",
          "output_type": "stream",
          "text": [
            "/tmp/ipykernel_23888/3544183308.py:2: SettingWithCopyWarning: \n",
            "A value is trying to be set on a copy of a slice from a DataFrame.\n",
            "Try using .loc[row_indexer,col_indexer] = value instead\n",
            "\n",
            "See the caveats in the documentation: https://pandas.pydata.org/pandas-docs/stable/user_guide/indexing.html#returning-a-view-versus-a-copy\n",
            "  df_cleaned['forest_loss_prediction'] = rf_classifier.predict(X)\n",
            "/tmp/ipykernel_23888/3544183308.py:9: SettingWithCopyWarning: \n",
            "A value is trying to be set on a copy of a slice from a DataFrame.\n",
            "Try using .loc[row_indexer,col_indexer] = value instead\n",
            "\n",
            "See the caveats in the documentation: https://pandas.pydata.org/pandas-docs/stable/user_guide/indexing.html#returning-a-view-versus-a-copy\n",
            "  df_cleaned['fire_prediction'] = fire_probabilities\n"
          ]
        }
      ],
      "source": [
        "# Use the trained Random Forest classifier to make predictions for the entire dataset\n",
        "df_cleaned['forest_loss_prediction'] = rf_classifier.predict(X)\n",
        "\n",
        "print(df_cleaned.head())\n",
        "\n",
        "area_to_predict = df_cleaned[['std_longitude', 'std_latitude', 'std_elevation', 'std_lst', 'std_prcp', 'std_7dayprecip', 'std_at']]\n",
        "fire_probabilities = rf_classifier.predict_proba(area_to_predict)[:, 1]\n",
        "\n",
        "df_cleaned['fire_prediction'] = fire_probabilities\n",
        "\n",
        "#only keeping the long lat and predicitons\n",
        "df_cleaned = df_cleaned[['longitude', 'latitude', 'forest_loss_prediction']]\n",
        "\n",
        "\n",
        "\n",
        "df_cleaned.to_csv('./forestpred.csv', index=False)"
      ]
    }
  ],
  "metadata": {
    "colab": {
      "provenance": []
    },
    "kernelspec": {
      "display_name": "Python 3",
      "name": "python3"
    },
    "language_info": {
      "codemirror_mode": {
        "name": "ipython",
        "version": 3
      },
      "file_extension": ".py",
      "mimetype": "text/x-python",
      "name": "python",
      "nbconvert_exporter": "python",
      "pygments_lexer": "ipython3",
      "version": "3.12.3"
    }
  },
  "nbformat": 4,
  "nbformat_minor": 0
}
