{
  "cells": [
    {
      "cell_type": "code",
      "execution_count": null,
      "metadata": {
        "id": "sV3P1wgjAO8z"
      },
      "outputs": [],
      "source": []
    },
    {
      "cell_type": "code",
      "execution_count": 18,
      "metadata": {
        "id": "lxrwOB0XASzk"
      },
      "outputs": [],
      "source": [
        "import pandas as pd\n",
        "import numpy as np\n",
        "from sklearn.model_selection import train_test_split, StratifiedKFold\n",
        "from sklearn.preprocessing import StandardScaler\n",
        "from sklearn.metrics import accuracy_score, classification_report, confusion_matrix\n",
        "import matplotlib.pyplot as plt\n",
        "from keras.models import Sequential\n",
        "from keras.layers import Dense, Dropout, BatchNormalization\n",
        "from keras.utils import to_categorical\n",
        "from keras.callbacks import EarlyStopping\n",
        "import keras_tuner as kt\n",
        "\n",
        "\n",
        "# Load and preprocess the data\n",
        "df = pd.read_csv(\"./combined_forest.csv\")"
      ]
    },
    {
      "cell_type": "code",
      "execution_count": 19,
      "metadata": {
        "colab": {
          "base_uri": "https://localhost:8080/",
          "height": 921
        },
        "id": "YiV80LOyBu3D",
        "outputId": "7e090d29-67b9-4631-915e-072c9b05452a"
      },
      "outputs": [],
      "source": [
        "# Load and preprocess the data\n",
        "df = pd.read_csv(\"./combined_forest.csv\")\n",
        "min_max_values = df.drop(columns=['acq_date', 'deforested']).agg(['min', 'max'])\n",
        "\n",
        "for column in df.columns:\n",
        "    if column not in ['acq_date', 'deforested']:\n",
        "        x_min = min_max_values.loc['min', column]\n",
        "        x_max = min_max_values.loc['max', column]\n",
        "        df[f'std_{column}'] = (df[column] - x_min) / (x_max - x_min)\n",
        "\n",
        "df.drop(columns=['acq_date'], inplace=True)\n",
        "df.rename(columns={'DEM': 'elevation'}, inplace=True)\n",
        "df.rename(columns={'std_DEM': 'std_elevation'}, inplace=True)"
      ]
    },
    {
      "cell_type": "code",
      "execution_count": 20,
      "metadata": {
        "colab": {
          "base_uri": "https://localhost:8080/"
        },
        "id": "M__H1zhWByvQ",
        "outputId": "f802b50d-90a7-4fb7-f14f-4c298265996d"
      },
      "outputs": [],
      "source": [
        "# Handle missing values\n",
        "df_cleaned = df.dropna()"
      ]
    },
    {
      "cell_type": "code",
      "execution_count": 21,
      "metadata": {
        "id": "LhNt_z44B4U4"
      },
      "outputs": [],
      "source": [
        "# Separate features and target variable\n",
        "X = df_cleaned.drop(columns=['deforested'])  # Features\n",
        "y = df_cleaned['deforested']  # Target variable"
      ]
    },
    {
      "cell_type": "code",
      "execution_count": 22,
      "metadata": {},
      "outputs": [
        {
          "name": "stdout",
          "output_type": "stream",
          "text": [
            "Class distribution:\n",
            "deforested\n",
            "0    3532\n",
            "1    1569\n",
            "Name: count, dtype: int64\n"
          ]
        }
      ],
      "source": [
        "# Check for class imbalance\n",
        "print(\"Class distribution:\")\n",
        "print(df_cleaned['deforested'].value_counts())\n"
      ]
    },
    {
      "cell_type": "code",
      "execution_count": 23,
      "metadata": {
        "colab": {
          "base_uri": "https://localhost:8080/",
          "height": 489
        },
        "id": "mx-8p5ApB_Bw",
        "outputId": "fdfe495b-5f11-4659-cec7-359df9e30f18"
      },
      "outputs": [],
      "source": [
        "# Split the data into training and testing sets\n",
        "X_train, X_test, y_train, y_test = train_test_split(X, y, test_size=0.3, random_state=42, stratify=y)\n"
      ]
    },
    {
      "cell_type": "code",
      "execution_count": 24,
      "metadata": {
        "colab": {
          "base_uri": "https://localhost:8080/"
        },
        "id": "D0dchNjcCKnq",
        "outputId": "680089aa-327b-44b4-bfc0-d4d091e6a5cb"
      },
      "outputs": [],
      "source": [
        "# Scale the features\n",
        "scaler = StandardScaler()\n",
        "X_train = scaler.fit_transform(X_train)\n",
        "X_test = scaler.transform(X_test)\n",
        "\n",
        "# Convert labels to categorical (one-hot encoding)\n",
        "y_train = to_categorical(y_train)\n",
        "y_test = to_categorical(y_test)"
      ]
    },
    {
      "cell_type": "code",
      "execution_count": 25,
      "metadata": {
        "colab": {
          "base_uri": "https://localhost:8080/"
        },
        "id": "6kAbo_wjDXJB",
        "outputId": "52714fa3-c036-4561-c7ee-143b567e3e33"
      },
      "outputs": [],
      "source": [
        "# Define the model-building function for Keras Tuner\n",
        "def build_model(hp):\n",
        "    model = Sequential()\n",
        "    model.add(Dense(hp.Int('units_1', min_value=32, max_value=256, step=32), input_dim=X_train.shape[1], activation='relu'))\n",
        "    model.add(BatchNormalization())\n",
        "    model.add(Dropout(hp.Float('dropout_1', min_value=0.0, max_value=0.5, step=0.1)))\n",
        "    model.add(Dense(hp.Int('units_2', min_value=32, max_value=256, step=32), activation='relu'))\n",
        "    model.add(BatchNormalization())\n",
        "    model.add(Dropout(hp.Float('dropout_2', min_value=0.0, max_value=0.5, step=0.1)))\n",
        "    model.add(Dense(hp.Int('units_3', min_value=32, max_value=256, step=32), activation='relu'))\n",
        "    model.add(BatchNormalization())\n",
        "    model.add(Dropout(hp.Float('dropout_3', min_value=0.0, max_value=0.5, step=0.1)))\n",
        "    model.add(Dense(2, activation='softmax'))\n",
        "    \n",
        "    model.compile(optimizer='adam', loss='categorical_crossentropy', metrics=['accuracy'])\n",
        "    \n",
        "    return model"
      ]
    },
    {
      "cell_type": "code",
      "execution_count": 26,
      "metadata": {},
      "outputs": [
        {
          "name": "stdout",
          "output_type": "stream",
          "text": [
            "Reloading Tuner from keras_tuner_dir/deforestation_tuning/tuner0.json\n"
          ]
        }
      ],
      "source": [
        "# Instantiate the tuner\n",
        "tuner = kt.Hyperband(\n",
        "    build_model,\n",
        "    objective='val_accuracy',\n",
        "    max_epochs=50,\n",
        "    factor=3,\n",
        "    directory='keras_tuner_dir',\n",
        "    project_name='deforestation_tuning'\n",
        ")\n"
      ]
    },
    {
      "cell_type": "code",
      "execution_count": 27,
      "metadata": {},
      "outputs": [],
      "source": [
        "# Early stopping to prevent overfitting\n",
        "early_stopping = EarlyStopping(monitor='val_loss', patience=10, restore_best_weights=True)\n"
      ]
    },
    {
      "cell_type": "code",
      "execution_count": 28,
      "metadata": {},
      "outputs": [],
      "source": [
        "# Run the tuner search\n",
        "tuner.search(X_train, y_train, epochs=50, validation_data=(X_test, y_test), callbacks=[early_stopping])\n"
      ]
    },
    {
      "cell_type": "code",
      "execution_count": 29,
      "metadata": {},
      "outputs": [
        {
          "name": "stdout",
          "output_type": "stream",
          "text": [
            "Epoch 1/100\n"
          ]
        },
        {
          "name": "stderr",
          "output_type": "stream",
          "text": [
            "/Users/chema./Documents/Programming/GuadaHack/MLmodel/ForestForecastML/venv/lib/python3.12/site-packages/keras/src/layers/core/dense.py:87: UserWarning: Do not pass an `input_shape`/`input_dim` argument to a layer. When using Sequential models, prefer using an `Input(shape)` object as the first layer in the model instead.\n",
            "  super().__init__(activity_regularizer=activity_regularizer, **kwargs)\n",
            "/Users/chema./Documents/Programming/GuadaHack/MLmodel/ForestForecastML/venv/lib/python3.12/site-packages/keras_tuner/src/tuners/hyperband.py:435: UserWarning: Model 'sequential' had a build config, but the model cannot be built automatically in `build_from_config(config)`. You should implement `def build_from_config(self, config)`, and you might also want to implement the method  that generates the config at saving time, `def get_build_config(self)`. The method `build_from_config()` is meant to create the state of the model (i.e. its variables) upon deserialization.\n",
            "  model.build_from_config(\n",
            "/Users/chema./Documents/Programming/GuadaHack/MLmodel/ForestForecastML/venv/lib/python3.12/site-packages/keras/src/saving/saving_lib.py:415: UserWarning: Skipping variable loading for optimizer 'adam', because it has 2 variables whereas the saved optimizer has 30 variables. \n",
            "  saveable.load_own_variables(weights_store.get(inner_path))\n"
          ]
        },
        {
          "name": "stdout",
          "output_type": "stream",
          "text": [
            "\u001b[1m112/112\u001b[0m \u001b[32m━━━━━━━━━━━━━━━━━━━━\u001b[0m\u001b[37m\u001b[0m \u001b[1m1s\u001b[0m 2ms/step - accuracy: 0.7604 - loss: 0.4359 - val_accuracy: 0.7864 - val_loss: 0.4159\n",
            "Epoch 2/100\n",
            "\u001b[1m112/112\u001b[0m \u001b[32m━━━━━━━━━━━━━━━━━━━━\u001b[0m\u001b[37m\u001b[0m \u001b[1m0s\u001b[0m 1ms/step - accuracy: 0.7774 - loss: 0.4275 - val_accuracy: 0.7871 - val_loss: 0.4141\n",
            "Epoch 3/100\n",
            "\u001b[1m112/112\u001b[0m \u001b[32m━━━━━━━━━━━━━━━━━━━━\u001b[0m\u001b[37m\u001b[0m \u001b[1m0s\u001b[0m 1ms/step - accuracy: 0.7705 - loss: 0.4349 - val_accuracy: 0.7838 - val_loss: 0.4212\n",
            "Epoch 4/100\n",
            "\u001b[1m112/112\u001b[0m \u001b[32m━━━━━━━━━━━━━━━━━━━━\u001b[0m\u001b[37m\u001b[0m \u001b[1m0s\u001b[0m 2ms/step - accuracy: 0.7652 - loss: 0.4344 - val_accuracy: 0.7831 - val_loss: 0.4243\n",
            "Epoch 5/100\n",
            "\u001b[1m112/112\u001b[0m \u001b[32m━━━━━━━━━━━━━━━━━━━━\u001b[0m\u001b[37m\u001b[0m \u001b[1m0s\u001b[0m 2ms/step - accuracy: 0.7768 - loss: 0.4140 - val_accuracy: 0.7812 - val_loss: 0.4156\n",
            "Epoch 6/100\n",
            "\u001b[1m112/112\u001b[0m \u001b[32m━━━━━━━━━━━━━━━━━━━━\u001b[0m\u001b[37m\u001b[0m \u001b[1m0s\u001b[0m 2ms/step - accuracy: 0.7768 - loss: 0.4182 - val_accuracy: 0.7799 - val_loss: 0.4257\n",
            "Epoch 7/100\n",
            "\u001b[1m112/112\u001b[0m \u001b[32m━━━━━━━━━━━━━━━━━━━━\u001b[0m\u001b[37m\u001b[0m \u001b[1m0s\u001b[0m 1ms/step - accuracy: 0.7824 - loss: 0.4174 - val_accuracy: 0.7851 - val_loss: 0.4210\n",
            "Epoch 8/100\n",
            "\u001b[1m112/112\u001b[0m \u001b[32m━━━━━━━━━━━━━━━━━━━━\u001b[0m\u001b[37m\u001b[0m \u001b[1m0s\u001b[0m 1ms/step - accuracy: 0.7704 - loss: 0.4286 - val_accuracy: 0.7825 - val_loss: 0.4180\n",
            "Epoch 9/100\n",
            "\u001b[1m112/112\u001b[0m \u001b[32m━━━━━━━━━━━━━━━━━━━━\u001b[0m\u001b[37m\u001b[0m \u001b[1m0s\u001b[0m 1ms/step - accuracy: 0.7758 - loss: 0.4192 - val_accuracy: 0.7877 - val_loss: 0.4154\n",
            "Epoch 10/100\n",
            "\u001b[1m112/112\u001b[0m \u001b[32m━━━━━━━━━━━━━━━━━━━━\u001b[0m\u001b[37m\u001b[0m \u001b[1m0s\u001b[0m 1ms/step - accuracy: 0.7849 - loss: 0.4207 - val_accuracy: 0.7851 - val_loss: 0.4188\n",
            "Epoch 11/100\n",
            "\u001b[1m112/112\u001b[0m \u001b[32m━━━━━━━━━━━━━━━━━━━━\u001b[0m\u001b[37m\u001b[0m \u001b[1m0s\u001b[0m 1ms/step - accuracy: 0.7788 - loss: 0.4183 - val_accuracy: 0.7792 - val_loss: 0.4142\n",
            "Epoch 12/100\n",
            "\u001b[1m112/112\u001b[0m \u001b[32m━━━━━━━━━━━━━━━━━━━━\u001b[0m\u001b[37m\u001b[0m \u001b[1m0s\u001b[0m 1ms/step - accuracy: 0.7812 - loss: 0.4074 - val_accuracy: 0.7845 - val_loss: 0.4218\n"
          ]
        }
      ],
      "source": [
        "# Get the best model\n",
        "best_model = tuner.get_best_models(num_models=1)[0]\n",
        "\n",
        "# Re-train the best model to get the training history\n",
        "history = best_model.fit(X_train, y_train, epochs=100, batch_size=32, validation_data=(X_test, y_test), callbacks=[early_stopping])"
      ]
    },
    {
      "cell_type": "code",
      "execution_count": 30,
      "metadata": {},
      "outputs": [
        {
          "name": "stdout",
          "output_type": "stream",
          "text": [
            "\u001b[1m48/48\u001b[0m \u001b[32m━━━━━━━━━━━━━━━━━━━━\u001b[0m\u001b[37m\u001b[0m \u001b[1m0s\u001b[0m 1ms/step\n",
            "Accuracy: 0.79\n",
            "Confusion Matrix:\n",
            "[[860 200]\n",
            " [126 345]]\n",
            "Classification Report:\n",
            "              precision    recall  f1-score   support\n",
            "\n",
            "           0       0.87      0.81      0.84      1060\n",
            "           1       0.63      0.73      0.68       471\n",
            "\n",
            "    accuracy                           0.79      1531\n",
            "   macro avg       0.75      0.77      0.76      1531\n",
            "weighted avg       0.80      0.79      0.79      1531\n",
            "\n"
          ]
        }
      ],
      "source": [
        "# Evaluate the best model\n",
        "y_pred = best_model.predict(X_test)\n",
        "y_pred_classes = np.argmax(y_pred, axis=1)\n",
        "y_test_classes = np.argmax(y_test, axis=1)\n",
        "\n",
        "accuracy = accuracy_score(y_test_classes, y_pred_classes)\n",
        "confusion = confusion_matrix(y_test_classes, y_pred_classes)\n",
        "classification_rep = classification_report(y_test_classes, y_pred_classes)\n",
        "\n",
        "print(f\"Accuracy: {accuracy:.2f}\")\n",
        "print(\"Confusion Matrix:\")\n",
        "print(confusion)\n",
        "print(\"Classification Report:\")\n",
        "print(classification_rep)"
      ]
    },
    {
      "cell_type": "code",
      "execution_count": 31,
      "metadata": {},
      "outputs": [
        {
          "name": "stdout",
          "output_type": "stream",
          "text": [
            "Number of False Negatives (FN): 126\n",
            "Number of False Positives (FP): 200\n"
          ]
        }
      ],
      "source": [
        "# Calculate false negatives and false positives using the confusion matrix\n",
        "tn, fp, fn, tp = confusion.ravel()\n",
        "\n",
        "print(f\"Number of False Negatives (FN): {fn}\")\n",
        "print(f\"Number of False Positives (FP): {fp}\")"
      ]
    },
    {
      "cell_type": "code",
      "execution_count": 32,
      "metadata": {},
      "outputs": [
        {
          "name": "stdout",
          "output_type": "stream",
          "text": [
            "False Negatives (Missed Deforested Areas):\n",
            "      longitude  latitude    elevation  deforested    lst  prcp  7dayprecip  \\\n",
            "50      80.5164   29.1591   770.510803           1  33.69   0.0   49.298845   \n",
            "58      80.2161   28.8633   190.449966           0  36.49   0.0    4.485003   \n",
            "80      82.6824   27.9159   640.228516           1  37.13   0.0    0.000000   \n",
            "85      80.1938   29.1102   707.070862           1  35.19   0.0    0.000000   \n",
            "89      81.5925   28.3732   319.956818           1  34.33   0.0    1.495679   \n",
            "...         ...       ...          ...         ...    ...   ...         ...   \n",
            "1865    83.1836   28.0217  1247.225098           0  15.07   0.0   19.111469   \n",
            "1876    83.9858   27.5251   263.400146           0  30.19   0.0    0.000000   \n",
            "1878    80.4282   29.1105   812.778687           1  33.29   0.0    6.295666   \n",
            "1901    80.4491   28.7627   190.000092           0  31.91   0.0    7.203955   \n",
            "1921    80.3874   29.1610   801.544373           0  35.73   0.0    0.000000   \n",
            "\n",
            "             at  std_longitude  std_latitude  std_elevation   std_lst  \\\n",
            "50    23.854578       0.047494      0.748972       0.165966  0.790964   \n",
            "58    31.520837       0.009491      0.666778       0.040860  0.838166   \n",
            "80    28.188959       0.321602      0.403523       0.137867  0.848955   \n",
            "85    25.481470       0.006669      0.735384       0.152283  0.816251   \n",
            "89    27.385492       0.183675      0.530594       0.068792  0.801753   \n",
            "...         ...            ...           ...            ...       ...   \n",
            "1865   7.041193       0.385029      0.432922       0.268782  0.477073   \n",
            "1876  24.385034       0.486548      0.294932       0.056594  0.731962   \n",
            "1878  23.603845       0.036333      0.735467       0.175082  0.784221   \n",
            "1901  23.353845       0.038977      0.638824       0.040763  0.760958   \n",
            "1921  25.280328       0.031169      0.749500       0.172659  0.825354   \n",
            "\n",
            "      std_prcp  std_7dayprecip    std_at  \n",
            "50         0.0        0.384598  0.799018  \n",
            "58         0.0        0.034989  0.944077  \n",
            "80         0.0        0.000000  0.881032  \n",
            "85         0.0        0.000000  0.829801  \n",
            "89         0.0        0.011668  0.865829  \n",
            "...        ...             ...       ...  \n",
            "1865       0.0        0.149096  0.480878  \n",
            "1876       0.0        0.000000  0.809055  \n",
            "1878       0.0        0.049115  0.794273  \n",
            "1901       0.0        0.056201  0.789543  \n",
            "1921       0.0        0.000000  0.825995  \n",
            "\n",
            "[126 rows x 15 columns]\n",
            "False Positives (False Alarms of Deforestation):\n",
            "      longitude  latitude    elevation  deforested    lst      prcp  \\\n",
            "16      84.8319   27.2679   210.000000           0  33.09  4.206675   \n",
            "17      81.4090   28.4598   378.679443           0  33.23  0.000000   \n",
            "21      81.9226   27.9675   198.232224           1  36.89  0.000000   \n",
            "35      85.6350   27.3076   506.678589           0  33.61  0.000000   \n",
            "39      81.5422   28.3160   200.233215           0  32.05  1.835015   \n",
            "...         ...       ...          ...         ...    ...       ...   \n",
            "1838    84.8847   27.3149   361.930847           0  30.71  0.333057   \n",
            "1854    83.0943   27.7210   147.740234           0  33.13  0.000000   \n",
            "1859    84.3992   27.5520   177.724487           0  26.37  0.000000   \n",
            "1887    82.7325   28.0705  1554.193970           0  30.17  0.000000   \n",
            "1893    82.3161   28.3220  1374.240723           0  30.87  0.000000   \n",
            "\n",
            "      7dayprecip         at  std_longitude  std_latitude  std_elevation  \\\n",
            "16      1.044387  26.875513       0.593622      0.223463       0.045077   \n",
            "17      0.000000  26.256830       0.160453      0.554657       0.081457   \n",
            "21      1.270844  32.179132       0.225449      0.417862       0.042539   \n",
            "35      8.696391  22.861230       0.695254      0.234495       0.109063   \n",
            "39      7.806305  22.668695       0.177310      0.514699       0.042970   \n",
            "...          ...        ...            ...           ...            ...   \n",
            "1838   13.330929  24.573969       0.600304      0.236523       0.077845   \n",
            "1854   23.828776  33.361993       0.373728      0.349366       0.031649   \n",
            "1859    2.107455  22.007837       0.538864      0.302406       0.038115   \n",
            "1887    7.556666  16.859552       0.327942      0.446482       0.334989   \n",
            "1893   10.894962  21.294550       0.275247      0.516367       0.296177   \n",
            "\n",
            "       std_lst  std_prcp  std_7dayprecip    std_at  \n",
            "16    0.780850  0.040765        0.008148  0.856179  \n",
            "17    0.783210  0.000000        0.000000  0.844473  \n",
            "21    0.844909  0.000000        0.009914  0.956533  \n",
            "35    0.789616  0.000000        0.067844  0.780222  \n",
            "39    0.763318  0.017782        0.060900  0.776579  \n",
            "...        ...       ...             ...       ...  \n",
            "1838  0.740728  0.003227        0.103999  0.812630  \n",
            "1854  0.781524  0.000000        0.185897  0.978915  \n",
            "1859  0.667566  0.000000        0.016441  0.764074  \n",
            "1887  0.731625  0.000000        0.058952  0.666659  \n",
            "1893  0.743425  0.000000        0.084996  0.750577  \n",
            "\n",
            "[200 rows x 15 columns]\n"
          ]
        }
      ],
      "source": [
        "# Identify and print false negatives and false positives\n",
        "false_negatives = (y_test_classes == 1) & (y_pred_classes == 0)\n",
        "false_positives = (y_test_classes == 0) & (y_pred_classes == 1)\n",
        "\n",
        "false_negative_indices = np.where(false_negatives)[0]\n",
        "false_positive_indices = np.where(false_positives)[0]\n",
        "\n",
        "print(\"False Negatives (Missed Deforested Areas):\")\n",
        "print(df_cleaned.iloc[false_negative_indices])\n",
        "\n",
        "print(\"False Positives (False Alarms of Deforestation):\")\n",
        "print(df_cleaned.iloc[false_positive_indices])"
      ]
    },
    {
      "cell_type": "code",
      "execution_count": 33,
      "metadata": {},
      "outputs": [
        {
          "name": "stdout",
          "output_type": "stream",
          "text": [
            "\n",
            "False Negatives: Instances where the model predicted 'not deforested' but the area was actually deforested.\n",
            "These are critical as they represent missed detections, which could lead to unmanaged deforestation.\n",
            "\n",
            "False Positives: Instances where the model predicted 'deforested' but the area was actually not deforested.\n",
            "These are less critical than false negatives but still problematic as they could lead to unnecessary resource allocation and alarm.\n",
            "\n"
          ]
        }
      ],
      "source": [
        "# Descriptive explanation\n",
        "print(\"\\nFalse Negatives: Instances where the model predicted 'not deforested' but the area was actually deforested.\")\n",
        "print(\"These are critical as they represent missed detections, which could lead to unmanaged deforestation.\\n\")\n",
        "\n",
        "print(\"False Positives: Instances where the model predicted 'deforested' but the area was actually not deforested.\")\n",
        "print(\"These are less critical than false negatives but still problematic as they could lead to unnecessary resource allocation and alarm.\\n\")\n"
      ]
    },
    {
      "cell_type": "code",
      "execution_count": 34,
      "metadata": {},
      "outputs": [
        {
          "data": {
            "image/png": "[encoded data removed]",
            "text/plain": [
              "<Figure size 1200x400 with 2 Axes>"
            ]
          },
          "metadata": {},
          "output_type": "display_data"
        }
      ],
      "source": [
        "# Plot training & validation accuracy and loss values\n",
        "plt.figure(figsize=(12, 4))\n",
        "plt.subplot(1, 2, 1)\n",
        "plt.plot(history.history['accuracy'])\n",
        "plt.plot(history.history['val_accuracy'])\n",
        "plt.title('Model accuracy')\n",
        "plt.ylabel('Accuracy')\n",
        "plt.xlabel('Epoch')\n",
        "plt.legend(['Train', 'Test'], loc='upper left')\n",
        "\n",
        "plt.subplot(1, 2, 2)\n",
        "plt.plot(history.history['loss'])\n",
        "plt.plot(history.history['val_loss'])\n",
        "plt.title('Model loss')\n",
        "plt.ylabel('Loss')\n",
        "plt.xlabel('Epoch')\n",
        "plt.legend(['Train', 'Test'], loc='upper left')\n",
        "\n",
        "plt.show()"
      ]
    }
  ],
  "metadata": {
    "colab": {
      "provenance": []
    },
    "kernelspec": {
      "display_name": "Python 3",
      "name": "python3"
    },
    "language_info": {
      "codemirror_mode": {
        "name": "ipython",
        "version": 3
      },
      "file_extension": ".py",
      "mimetype": "text/x-python",
      "name": "python",
      "nbconvert_exporter": "python",
      "pygments_lexer": "ipython3",
      "version": "3.12.3"
    }
  },
  "nbformat": 4,
  "nbformat_minor": 0
}
